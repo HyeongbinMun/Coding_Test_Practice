{
 "cells": [
  {
   "cell_type": "code",
   "execution_count": 1,
   "id": "d58d2bc7",
   "metadata": {
    "ExecuteTime": {
     "end_time": "2022-07-30T00:59:44.520943Z",
     "start_time": "2022-07-30T00:59:44.501211Z"
    }
   },
   "outputs": [],
   "source": [
    "data = '0001100'"
   ]
  },
  {
   "cell_type": "code",
   "execution_count": 6,
   "id": "c2cb6ed7",
   "metadata": {
    "ExecuteTime": {
     "end_time": "2022-07-30T01:10:53.923131Z",
     "start_time": "2022-07-30T01:10:53.910073Z"
    }
   },
   "outputs": [
    {
     "name": "stdout",
     "output_type": "stream",
     "text": [
      "0 1\n"
     ]
    }
   ],
   "source": [
    "#맨 첫 번째는 별도로 세주자.\n",
    "if data[0] == '0':\n",
    "    count0 = 0 #전체를 0으로 뒤집을 때, 필요한 횟수\n",
    "    count1 = 1 #전체를 1으로 뒤집을 때, 필요한 횟수\n",
    "else:\n",
    "    count0 = 1\n",
    "    count1 = 0\n",
    "print(count0, count1)"
   ]
  },
  {
   "cell_type": "code",
   "execution_count": 7,
   "id": "6e1b50c2",
   "metadata": {
    "ExecuteTime": {
     "end_time": "2022-07-30T01:11:56.196164Z",
     "start_time": "2022-07-30T01:11:56.186708Z"
    }
   },
   "outputs": [
    {
     "name": "stdout",
     "output_type": "stream",
     "text": [
      "count0:1, count1:2, 따라서 최솟값은 1\n"
     ]
    }
   ],
   "source": [
    "for idx in range(len(data)-1):\n",
    "    if (data[idx] == '0') and (data[idx+1] == '1'):\n",
    "        count0 += 1\n",
    "    elif (data[idx] == '1') and (data[idx+1] == '0'):\n",
    "        count1 += 1\n",
    "\n",
    "print(f\"count0:{count0}, count1:{count1}, 따라서 최솟값은 {min(count0, count1)}\")"
   ]
  }
 ],
 "metadata": {
  "kernelspec": {
   "display_name": "Python 3 (ipykernel)",
   "language": "python",
   "name": "python3"
  },
  "language_info": {
   "codemirror_mode": {
    "name": "ipython",
    "version": 3
   },
   "file_extension": ".py",
   "mimetype": "text/x-python",
   "name": "python",
   "nbconvert_exporter": "python",
   "pygments_lexer": "ipython3",
   "version": "3.10.4"
  },
  "toc": {
   "base_numbering": 1,
   "nav_menu": {},
   "number_sections": true,
   "sideBar": true,
   "skip_h1_title": false,
   "title_cell": "Table of Contents",
   "title_sidebar": "Contents",
   "toc_cell": false,
   "toc_position": {},
   "toc_section_display": true,
   "toc_window_display": false
  },
  "varInspector": {
   "cols": {
    "lenName": 16,
    "lenType": 16,
    "lenVar": 40
   },
   "kernels_config": {
    "python": {
     "delete_cmd_postfix": "",
     "delete_cmd_prefix": "del ",
     "library": "var_list.py",
     "varRefreshCmd": "print(var_dic_list())"
    },
    "r": {
     "delete_cmd_postfix": ") ",
     "delete_cmd_prefix": "rm(",
     "library": "var_list.r",
     "varRefreshCmd": "cat(var_dic_list()) "
    }
   },
   "types_to_exclude": [
    "module",
    "function",
    "builtin_function_or_method",
    "instance",
    "_Feature"
   ],
   "window_display": false
  }
 },
 "nbformat": 4,
 "nbformat_minor": 5
}
