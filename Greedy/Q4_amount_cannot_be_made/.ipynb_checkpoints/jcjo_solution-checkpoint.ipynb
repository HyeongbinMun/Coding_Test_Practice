{
 "cells": [
  {
   "cell_type": "code",
   "execution_count": 1,
   "id": "4348b746",
   "metadata": {
    "ExecuteTime": {
     "end_time": "2022-07-30T01:13:30.040575Z",
     "start_time": "2022-07-30T01:13:30.025455Z"
    }
   },
   "outputs": [],
   "source": [
    "n = 5\n",
    "coin = [3, 2, 1, 1, 9]"
   ]
  },
  {
   "cell_type": "code",
   "execution_count": 13,
   "id": "202f1421",
   "metadata": {
    "ExecuteTime": {
     "end_time": "2022-07-30T01:23:33.957834Z",
     "start_time": "2022-07-30T01:23:33.946392Z"
    }
   },
   "outputs": [
    {
     "data": {
      "text/plain": [
       "[1, 2, 3, 4, 5, 6, 7, 9, 10, 11, 12, 13, 14, 15, 16]"
      ]
     },
     "execution_count": 13,
     "metadata": {},
     "output_type": "execute_result"
    }
   ],
   "source": [
    "from itertools import combinations\n",
    "can_made = list({sum(j) for i in range(1, n+1) for j in combinations(coin, i)}) #만들 수 있는 금액 합계\n",
    "can_made"
   ]
  },
  {
   "cell_type": "code",
   "execution_count": 16,
   "id": "f98fc21d",
   "metadata": {
    "ExecuteTime": {
     "end_time": "2022-07-30T01:24:32.104380Z",
     "start_time": "2022-07-30T01:24:32.095677Z"
    }
   },
   "outputs": [
    {
     "data": {
      "text/plain": [
       "16"
      ]
     },
     "execution_count": 16,
     "metadata": {},
     "output_type": "execute_result"
    }
   ],
   "source": [
    "max(can_made)"
   ]
  },
  {
   "cell_type": "code",
   "execution_count": 18,
   "id": "4506d2ab",
   "metadata": {
    "ExecuteTime": {
     "end_time": "2022-07-30T01:25:29.192466Z",
     "start_time": "2022-07-30T01:25:29.175857Z"
    }
   },
   "outputs": [
    {
     "data": {
      "text/plain": [
       "8"
      ]
     },
     "execution_count": 18,
     "metadata": {},
     "output_type": "execute_result"
    }
   ],
   "source": [
    "for idx in range(max(can_made)):\n",
    "    if can_made[idx+1] == can_made[idx] + 1: #연속적인 숫자 나열 중 빠진 부분, 즉 만들 수 없는 최솟값\n",
    "        pass\n",
    "    else:\n",
    "        result = can_made[idx] + 1\n",
    "        break\n",
    "result"
   ]
  },
  {
   "cell_type": "code",
   "execution_count": null,
   "id": "2414e862",
   "metadata": {},
   "outputs": [],
   "source": [
    "#시간 복잡도가 조금.. 비싸긴 하다. 그러나 이런 방법도 있다는 차원."
   ]
  },
  {
   "cell_type": "code",
   "execution_count": 19,
   "id": "0d3ec913",
   "metadata": {
    "ExecuteTime": {
     "end_time": "2022-07-30T01:42:36.289642Z",
     "start_time": "2022-07-30T01:42:36.264422Z"
    }
   },
   "outputs": [
    {
     "data": {
      "text/plain": [
       "8"
      ]
     },
     "execution_count": 19,
     "metadata": {},
     "output_type": "execute_result"
    }
   ],
   "source": [
    "#답지 복습: \n",
    "#Key-Idea: target 보다 작거나 같은 수가 있다면 만들 수 있고, target에 그 수를 더한 값 -1 까지 만들 수 있다.\n",
    "\n",
    "target =1 #동전의 최솟값은 1\n",
    "\n",
    "coin.sort() #오름차순 정렬해서, 작은 수부터 차례대로 뽑기만 하면 되도록 하자.\n",
    "\n",
    "for i in coin:\n",
    "    if i <= target:\n",
    "        target += i #target보다 작은 값만큼 만들 수 있는 범위 확장, 이 값부터 다시 확인.\n",
    "    else:\n",
    "        result = target\n",
    "        break\n",
    "result"
   ]
  }
 ],
 "metadata": {
  "kernelspec": {
   "display_name": "Python 3 (ipykernel)",
   "language": "python",
   "name": "python3"
  },
  "language_info": {
   "codemirror_mode": {
    "name": "ipython",
    "version": 3
   },
   "file_extension": ".py",
   "mimetype": "text/x-python",
   "name": "python",
   "nbconvert_exporter": "python",
   "pygments_lexer": "ipython3",
   "version": "3.10.4"
  },
  "toc": {
   "base_numbering": 1,
   "nav_menu": {},
   "number_sections": true,
   "sideBar": true,
   "skip_h1_title": false,
   "title_cell": "Table of Contents",
   "title_sidebar": "Contents",
   "toc_cell": false,
   "toc_position": {},
   "toc_section_display": true,
   "toc_window_display": false
  },
  "varInspector": {
   "cols": {
    "lenName": 16,
    "lenType": 16,
    "lenVar": 40
   },
   "kernels_config": {
    "python": {
     "delete_cmd_postfix": "",
     "delete_cmd_prefix": "del ",
     "library": "var_list.py",
     "varRefreshCmd": "print(var_dic_list())"
    },
    "r": {
     "delete_cmd_postfix": ") ",
     "delete_cmd_prefix": "rm(",
     "library": "var_list.r",
     "varRefreshCmd": "cat(var_dic_list()) "
    }
   },
   "types_to_exclude": [
    "module",
    "function",
    "builtin_function_or_method",
    "instance",
    "_Feature"
   ],
   "window_display": false
  }
 },
 "nbformat": 4,
 "nbformat_minor": 5
}
