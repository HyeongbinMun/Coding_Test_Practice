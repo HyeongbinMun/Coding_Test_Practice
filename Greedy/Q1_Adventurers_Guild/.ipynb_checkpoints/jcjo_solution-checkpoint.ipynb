{
 "cells": [
  {
   "cell_type": "code",
   "execution_count": 1,
   "id": "5fc45805",
   "metadata": {
    "ExecuteTime": {
     "end_time": "2022-07-30T00:16:19.398307Z",
     "start_time": "2022-07-30T00:16:19.385311Z"
    }
   },
   "outputs": [],
   "source": [
    "n = 5\n",
    "fear = [2, 3, 1, 2, 2]"
   ]
  },
  {
   "cell_type": "code",
   "execution_count": 5,
   "id": "f0dfd375",
   "metadata": {
    "ExecuteTime": {
     "end_time": "2022-07-30T00:23:49.539800Z",
     "start_time": "2022-07-30T00:23:49.524177Z"
    }
   },
   "outputs": [
    {
     "data": {
      "text/plain": [
       "[3, 2, 2, 2, 1]"
      ]
     },
     "execution_count": 5,
     "metadata": {},
     "output_type": "execute_result"
    }
   ],
   "source": [
    "fear.sort(reverse = True)\n",
    "fear"
   ]
  },
  {
   "cell_type": "code",
   "execution_count": 9,
   "id": "33559acf",
   "metadata": {
    "ExecuteTime": {
     "end_time": "2022-07-30T00:38:20.352191Z",
     "start_time": "2022-07-30T00:38:20.343101Z"
    }
   },
   "outputs": [],
   "source": [
    "# fear: 공포도 list\n",
    "# start: 공포도 list 시작 index\n",
    "# count: 그룹을 구성한 횟수\n",
    "\n",
    "def grouping(start, fear, count):\n",
    "    if start >= n:\n",
    "        print(count)\n",
    "    else:\n",
    "        count += 1 #그룹을 구성\n",
    "        start += fear[start] #옮겨진 index 만큼 모험가 그룹에 인원이 추가됐다고 생각한다.\n",
    "        \n",
    "        grouping(start=start, fear=fear, count=count)"
   ]
  },
  {
   "cell_type": "code",
   "execution_count": 10,
   "id": "164ab3cc",
   "metadata": {
    "ExecuteTime": {
     "end_time": "2022-07-30T00:38:20.537332Z",
     "start_time": "2022-07-30T00:38:20.528756Z"
    }
   },
   "outputs": [
    {
     "name": "stdout",
     "output_type": "stream",
     "text": [
      "2\n"
     ]
    }
   ],
   "source": [
    "grouping(start=0, fear=fear, count=0)"
   ]
  }
 ],
 "metadata": {
  "kernelspec": {
   "display_name": "Python 3 (ipykernel)",
   "language": "python",
   "name": "python3"
  },
  "language_info": {
   "codemirror_mode": {
    "name": "ipython",
    "version": 3
   },
   "file_extension": ".py",
   "mimetype": "text/x-python",
   "name": "python",
   "nbconvert_exporter": "python",
   "pygments_lexer": "ipython3",
   "version": "3.10.4"
  },
  "toc": {
   "base_numbering": 1,
   "nav_menu": {},
   "number_sections": true,
   "sideBar": true,
   "skip_h1_title": false,
   "title_cell": "Table of Contents",
   "title_sidebar": "Contents",
   "toc_cell": false,
   "toc_position": {},
   "toc_section_display": true,
   "toc_window_display": false
  },
  "varInspector": {
   "cols": {
    "lenName": 16,
    "lenType": 16,
    "lenVar": 40
   },
   "kernels_config": {
    "python": {
     "delete_cmd_postfix": "",
     "delete_cmd_prefix": "del ",
     "library": "var_list.py",
     "varRefreshCmd": "print(var_dic_list())"
    },
    "r": {
     "delete_cmd_postfix": ") ",
     "delete_cmd_prefix": "rm(",
     "library": "var_list.r",
     "varRefreshCmd": "cat(var_dic_list()) "
    }
   },
   "types_to_exclude": [
    "module",
    "function",
    "builtin_function_or_method",
    "instance",
    "_Feature"
   ],
   "window_display": false
  }
 },
 "nbformat": 4,
 "nbformat_minor": 5
}
