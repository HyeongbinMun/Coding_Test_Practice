{
 "cells": [
  {
   "cell_type": "code",
   "execution_count": 1,
   "id": "ba785a04",
   "metadata": {
    "ExecuteTime": {
     "end_time": "2022-07-30T00:44:31.677328Z",
     "start_time": "2022-07-30T00:44:31.656074Z"
    }
   },
   "outputs": [],
   "source": [
    "data = '02984'\n",
    "data2 = '567'"
   ]
  },
  {
   "cell_type": "code",
   "execution_count": 15,
   "id": "b9f35a87",
   "metadata": {
    "ExecuteTime": {
     "end_time": "2022-07-30T00:56:10.725648Z",
     "start_time": "2022-07-30T00:56:10.707362Z"
    }
   },
   "outputs": [
    {
     "data": {
      "text/plain": [
       "5"
      ]
     },
     "execution_count": 15,
     "metadata": {},
     "output_type": "execute_result"
    }
   ],
   "source": [
    "len(data)"
   ]
  },
  {
   "cell_type": "code",
   "execution_count": 16,
   "id": "77cf3f87",
   "metadata": {
    "ExecuteTime": {
     "end_time": "2022-07-30T00:56:13.694902Z",
     "start_time": "2022-07-30T00:56:13.682089Z"
    }
   },
   "outputs": [
    {
     "data": {
      "text/plain": [
       "0"
      ]
     },
     "execution_count": 16,
     "metadata": {},
     "output_type": "execute_result"
    }
   ],
   "source": [
    "result = int(data[0]) #연산 결과, 시작은 첫 번째 index 부터\n",
    "result"
   ]
  },
  {
   "cell_type": "code",
   "execution_count": 17,
   "id": "dbab0108",
   "metadata": {
    "ExecuteTime": {
     "end_time": "2022-07-30T00:56:27.109899Z",
     "start_time": "2022-07-30T00:56:27.096893Z"
    }
   },
   "outputs": [
    {
     "data": {
      "text/plain": [
       "576"
      ]
     },
     "execution_count": 17,
     "metadata": {},
     "output_type": "execute_result"
    }
   ],
   "source": [
    "for idx in range(len(data)-1):\n",
    "    if (data[idx] in ['0', '1']) | (data[idx+1] in ['0', '1']): #0또는 1이면 더하기가 이득.\n",
    "        result += int(data[idx+1])\n",
    "    else: # 그 외에는, 항상 곱하기가 이득\n",
    "        result *= int(data[idx+1])\n",
    "result        "
   ]
  }
 ],
 "metadata": {
  "kernelspec": {
   "display_name": "Python 3 (ipykernel)",
   "language": "python",
   "name": "python3"
  },
  "language_info": {
   "codemirror_mode": {
    "name": "ipython",
    "version": 3
   },
   "file_extension": ".py",
   "mimetype": "text/x-python",
   "name": "python",
   "nbconvert_exporter": "python",
   "pygments_lexer": "ipython3",
   "version": "3.10.4"
  },
  "toc": {
   "base_numbering": 1,
   "nav_menu": {},
   "number_sections": true,
   "sideBar": true,
   "skip_h1_title": false,
   "title_cell": "Table of Contents",
   "title_sidebar": "Contents",
   "toc_cell": false,
   "toc_position": {},
   "toc_section_display": true,
   "toc_window_display": false
  },
  "varInspector": {
   "cols": {
    "lenName": 16,
    "lenType": 16,
    "lenVar": 40
   },
   "kernels_config": {
    "python": {
     "delete_cmd_postfix": "",
     "delete_cmd_prefix": "del ",
     "library": "var_list.py",
     "varRefreshCmd": "print(var_dic_list())"
    },
    "r": {
     "delete_cmd_postfix": ") ",
     "delete_cmd_prefix": "rm(",
     "library": "var_list.r",
     "varRefreshCmd": "cat(var_dic_list()) "
    }
   },
   "types_to_exclude": [
    "module",
    "function",
    "builtin_function_or_method",
    "instance",
    "_Feature"
   ],
   "window_display": false
  }
 },
 "nbformat": 4,
 "nbformat_minor": 5
}
